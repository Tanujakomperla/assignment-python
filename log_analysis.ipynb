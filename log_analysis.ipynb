{
 "cells": [
  {
   "cell_type": "code",
   "execution_count": null,
   "metadata": {},
   "outputs": [],
   "source": [
    "import os\n",
    "import csv\n",
    "from collections import defaultdict\n"
   ]
  },
  {
   "cell_type": "code",
   "execution_count": 2,
   "metadata": {},
   "outputs": [
    {
     "name": "stdout",
     "output_type": "stream",
     "text": [
      "Log file found: sample.log\n"
     ]
    }
   ],
   "source": [
    "log_file_path = \"sample.log\"\n",
    "\n",
    "if not os.path.exists(log_file_path):\n",
    "    print(f\"Error: The file '{log_file_path}' does not exist.\")\n",
    "else:\n",
    "    print(f\"Log file found: {log_file_path}\")\n"
   ]
  },
  {
   "cell_type": "code",
   "execution_count": 3,
   "metadata": {},
   "outputs": [],
   "source": [
    "def parse_log(file_path):\n",
    "    data = []\n",
    "    with open(file_path, \"r\") as file:\n",
    "        for line in file:\n",
    "            parts = line.split()\n",
    "            ip = parts[0]\n",
    "            endpoint = parts[6]\n",
    "            status = parts[8]\n",
    "            message = parts[9] if len(parts) > 9 else \"\"\n",
    "            data.append((ip, endpoint, status, message))\n",
    "    return data\n",
    "\n",
    "log_data = parse_log(log_file_path)\n"
   ]
  },
  {
   "cell_type": "code",
   "execution_count": 4,
   "metadata": {},
   "outputs": [
    {
     "name": "stdout",
     "output_type": "stream",
     "text": [
      "Requests per IP Address:\n",
      "203.0.113.5: 8\n",
      "198.51.100.23: 8\n",
      "192.168.1.1: 7\n",
      "10.0.0.2: 6\n",
      "192.168.1.100: 5\n"
     ]
    }
   ],
   "source": [
    "def count_requests_by_ip(data):\n",
    "    ip_count = defaultdict(int)\n",
    "    for entry in data:\n",
    "        ip_count[entry[0]] += 1\n",
    "    return sorted(ip_count.items(), key=lambda x: x[1], reverse=True)\n",
    "\n",
    "ip_requests = count_requests_by_ip(log_data)\n",
    "print(\"Requests per IP Address:\")\n",
    "for ip, count in ip_requests:\n",
    "    print(f\"{ip}: {count}\")\n"
   ]
  },
  {
   "cell_type": "code",
   "execution_count": 5,
   "metadata": {},
   "outputs": [
    {
     "name": "stdout",
     "output_type": "stream",
     "text": [
      "Most Frequently Accessed Endpoint: /login (Accessed 13 times)\n"
     ]
    }
   ],
   "source": [
    "def most_accessed_endpoint(data):\n",
    "    endpoint_count = defaultdict(int)\n",
    "    for entry in data:\n",
    "        endpoint_count[entry[1]] += 1\n",
    "    most_accessed = max(endpoint_count.items(), key=lambda x: x[1])\n",
    "    return most_accessed\n",
    "\n",
    "endpoint, count = most_accessed_endpoint(log_data)\n",
    "print(f\"Most Frequently Accessed Endpoint: {endpoint} (Accessed {count} times)\")\n"
   ]
  },
  {
   "cell_type": "code",
   "execution_count": 6,
   "metadata": {},
   "outputs": [
    {
     "name": "stdout",
     "output_type": "stream",
     "text": [
      "Suspicious Activity Detected:\n"
     ]
    }
   ],
   "source": [
    "def detect_suspicious_activity(data, threshold=10):\n",
    "    failed_attempts = defaultdict(int)\n",
    "    for entry in data:\n",
    "        if entry[2] == \"401\" and \"Invalid credentials\" in entry[3]:\n",
    "            failed_attempts[entry[0]] += 1\n",
    "    return {ip: count for ip, count in failed_attempts.items() if count > threshold}\n",
    "\n",
    "suspicious_ips = detect_suspicious_activity(log_data)\n",
    "print(\"Suspicious Activity Detected:\")\n",
    "for ip, count in suspicious_ips.items():\n",
    "    print(f\"{ip}: {count} failed login attempts\")\n"
   ]
  },
  {
   "cell_type": "code",
   "execution_count": 7,
   "metadata": {},
   "outputs": [
    {
     "name": "stdout",
     "output_type": "stream",
     "text": [
      "Results saved to log_analysis_results.csv\n"
     ]
    }
   ],
   "source": [
    "def save_to_csv(ip_requests, endpoint, endpoint_count, suspicious_ips, output_file=\"log_analysis_results.csv\"):\n",
    "    with open(output_file, \"w\", newline=\"\") as csvfile:\n",
    "        writer = csv.writer(csvfile)\n",
    "        writer.writerow([\"Section\", \"Data\"])\n",
    "        \n",
    "        writer.writerow([\"Requests per IP\"])\n",
    "        writer.writerow([\"IP Address\", \"Request Count\"])\n",
    "        for ip, count in ip_requests:\n",
    "            writer.writerow([ip, count])\n",
    "        \n",
    "        writer.writerow([])\n",
    "        writer.writerow([\"Most Accessed Endpoint\"])\n",
    "        writer.writerow([\"Endpoint\", \"Access Count\"])\n",
    "        writer.writerow([endpoint, endpoint_count])\n",
    "        \n",
    "        writer.writerow([])\n",
    "        writer.writerow([\"Suspicious Activity\"])\n",
    "        writer.writerow([\"IP Address\", \"Failed Login Count\"])\n",
    "        for ip, count in suspicious_ips.items():\n",
    "            writer.writerow([ip, count])\n",
    "    print(f\"Results saved to {output_file}\")\n",
    "\n",
    "save_to_csv(ip_requests, endpoint, count, suspicious_ips)\n"
   ]
  }
 ],
 "metadata": {
  "kernelspec": {
   "display_name": "Python 3",
   "language": "python",
   "name": "python3"
  },
  "language_info": {
   "codemirror_mode": {
    "name": "ipython",
    "version": 3
   },
   "file_extension": ".py",
   "mimetype": "text/x-python",
   "name": "python",
   "nbconvert_exporter": "python",
   "pygments_lexer": "ipython3",
   "version": "3.10.7"
  }
 },
 "nbformat": 4,
 "nbformat_minor": 2
}
